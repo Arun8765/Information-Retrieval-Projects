{
 "cells": [
  {
   "cell_type": "code",
   "execution_count": 1,
   "metadata": {},
   "outputs": [],
   "source": [
    "from nltk.tokenize import word_tokenize\n",
    "from nltk.corpus import stopwords\n",
    "from nltk.stem import PorterStemmer\n",
    "from nltk.stem import WordNetLemmatizer\n",
    "from nltk.tokenize import word_tokenize\n",
    "from nltk import ne_chunk\n",
    "from nltk import pos_tag\n",
    "import re\n",
    "import string\n",
    "import os\n",
    "from sys import getsizeof\n",
    "import unicodedata"
   ]
  },
  {
   "cell_type": "code",
   "execution_count": 2,
   "metadata": {},
   "outputs": [],
   "source": [
    "def preprocess(data):    \n",
    "    data = data.lower()\n",
    "    data = re.sub(r'\\d+','',data)\n",
    "    data = re.sub(r'\\n',' ',data)\n",
    "    data = re.sub(r'[^A-Za-z]+',' ',data)\n",
    "    data = data.translate(str.maketrans('','', string.punctuation))\n",
    "    data = data.strip()\n",
    "    \n",
    "    stop_words = set(stopwords.words('english'))   \n",
    "    tokens = word_tokenize(data)\n",
    "    result = [i for i in tokens if  i not in stop_words]\n",
    "    result = [unicodedata.normalize('NFKD', i).encode('ascii', 'ignore').decode('utf-8', 'ignore') for i in result] \n",
    "\n",
    "    stemmer= PorterStemmer()\n",
    "    new_result = [stemmer.stem(i) for i in result]\n",
    "    new_result = [i for i in new_result if  i not in stop_words]\n",
    "    \n",
    "    \n",
    "    return new_result"
   ]
  },
  {
   "cell_type": "code",
   "execution_count": 3,
   "metadata": {},
   "outputs": [],
   "source": [
    "path = os.getcwd() + \"\\\\Document_Preprocessing\"\n",
    "\n",
    "preprocessed_text = []\n",
    "size_info = {}\n",
    "\n",
    "for filename in os.listdir(path):\n",
    "    if filename.split(\".\")[-1] == \"txt\" :\n",
    "        with open(path + \"//\" + filename,\"r\") as file:\n",
    "            data = file.read()\n",
    "        result = preprocess(data)\n",
    "        preprocessed_text = preprocessed_text + result\n",
    "        size_info[filename] = [getsizeof(data),getsizeof(result)]"
   ]
  },
  {
   "cell_type": "code",
   "execution_count": 4,
   "metadata": {},
   "outputs": [
    {
     "name": "stdout",
     "output_type": "stream",
     "text": [
      "size of document before processing:  661737  bytes ,  size of document after processing:  514568  bytes\n",
      "size of document before processing:  28745  bytes ,  size of document after processing:  16560  bytes\n",
      "size of document before processing:  11446  bytes ,  size of document after processing:  9024  bytes\n",
      "size of document before processing:  26754  bytes ,  size of document after processing:  18672  bytes\n"
     ]
    }
   ],
   "source": [
    "for i in size_info:\n",
    "    print(\"size of document before processing: \",size_info[i][0],\" bytes\",\",  size of document after processing: \",size_info[i][1],\" bytes\")"
   ]
  },
  {
   "cell_type": "code",
   "execution_count": 5,
   "metadata": {},
   "outputs": [],
   "source": [
    "preprocessed_text = list(set(preprocessed_text))\n",
    "preprocessed_text.sort()\n",
    "\n",
    "with open(os.path.join(os.getcwd(),\"preprocessed_text.txt\"),\"w\") as wf:\n",
    "    wf.write(\" \".join(preprocessed_text))"
   ]
  },
  {
   "cell_type": "code",
   "execution_count": null,
   "metadata": {},
   "outputs": [],
   "source": []
  }
 ],
 "metadata": {
  "kernelspec": {
   "display_name": "Python 3",
   "language": "python",
   "name": "python3"
  },
  "language_info": {
   "codemirror_mode": {
    "name": "ipython",
    "version": 3
   },
   "file_extension": ".py",
   "mimetype": "text/x-python",
   "name": "python",
   "nbconvert_exporter": "python",
   "pygments_lexer": "ipython3",
   "version": "3.7.6"
  }
 },
 "nbformat": 4,
 "nbformat_minor": 5
}
